{
 "cells": [
  {
   "cell_type": "markdown",
   "id": "1bca65b3-9679-4269-96e0-5f501b5c3f6a",
   "metadata": {},
   "source": [
    "# Transfer learning\n",
    "\n",
    "Das Ziel des Transferlearning ist es, ein bereits trainiertes Modell auf eine andere Aufgabe zu trainieren. Die Idee dahinter ist den Teil des Netzwerks, der für die Extraktion von Merkmalen zuständig ist, zu \"recyceln\". Da dies in der Regel der teuerste Teil des Trainings ist, spart man sich dadurch eine Menge an Zeit. Das bedeutet, dass dieser Teil nicht neu trainiert werden muss, sondern die bereits trainierte Featurextraktion genauso gut für eine ähnliche Aufgabe verwendet werden kann. Aus diesem Grund sollte man ein bereits trainiertes Netzwerk nutzen, welches für eine ähnliche Aufgabe trainiert wurde. Lediglich die Klassifikationsschicht wird neu trainiert. Ziel dieses Notebooks ist es, ein Verständnis zu bekommen, was beim Transferlearning passiert.\n",
    "\n",
    "Schauen Sie sich folgendes Notebook an und versuchen Sie den groben Ablauf zu verstehen.\n",
    "Sie werden die meisten Befehle die Sie benötigen darin finden.\n",
    "https://www.tensorflow.org/tutorials/images/transfer_learning\n",
    "\n",
    "Für diese Aufgabe wollen wir das in der letzten Aufgabe trainierte Convolutional Neural Network, welches auf dem Mnist Datensatz trainiert wurde, auf eine andere Aufgabe trainieren. Die Aufgabe des Netzwerks soll es sein, Hexadezimalzahlen zu erkennen.\n",
    "Hierzu verwenden wir den $\\textit{emnist}$ Datensatz. Dieser beinhaltet zusätzlich das Alphabet (große und kleine Buchstaben). Näheres dazu unter https://pypi.org/project/emnist/ \n",
    "\n",
    "Gehen Sie dazu wie folgt vor:\n",
    "\n",
    "    * Laden Sie ihr Modell aus der vorherigen Aufgabe mit tf.keras.models.load_model(\"Name des Modells\") Falls Sie ihr Modell nicht gespeichert hatten, können Sie dies mit model.save(\"Name des Modells\"), nachdem Sie erneut trainiert haben, tun.\n",
    "      \n",
    "    * Bereiten Sie den emnist-Datensatz wie in der vorherigen Aufgabe vor und sortieren Sie alle Kleinbuchstaben sowie alle Buchstaben, die nicht der Hexadezimalschreibweise angehören, aus!\n",
    "      \n",
    "    * Laden Sie das zuvor gespeicherte Modell und entfernen Sie die letzte Schicht ( model.pop() )\n",
    "    \n",
    "    * Frieren Sie das Modell ein, d.h. Sie setzen die Layer auf nicht trainierbar\n",
    "    \n",
    "    * Fügen Sie eine neue Schicht hinzu, sodass die verschiedenen Klassen (0-F) klassifiziert werden können (Wir beschränken uns hier auf die groß geschriebenen Buchstaben)\n",
    "    \n",
    "    * Trainieren Sie das Netzwerk mit den transformierten Labels\n",
    "    \n",
    "    * Plotten Sie wieder die Trainingskurven und erstellen sie eine confusion Matrix"
   ]
  },
  {
   "cell_type": "code",
   "execution_count": 3,
   "id": "099b0031-b03b-48e7-96aa-97f0c491a06d",
   "metadata": {},
   "outputs": [],
   "source": [
    "import matplotlib.pyplot as plt\n",
    "import numpy as np\n",
    "import os\n",
    "import tensorflow as tf\n",
    "from sklearn.metrics import confusion_matrix \n",
    "from extra_keras_datasets import emnist"
   ]
  },
  {
   "cell_type": "code",
   "execution_count": 4,
   "id": "28c85969-93c8-4ec0-aeaf-91f4c8eb2582",
   "metadata": {},
   "outputs": [
    {
     "name": "stderr",
     "output_type": "stream",
     "text": [
      "INFO:root:Loading dataset = emnist\n"
     ]
    },
    {
     "name": "stdout",
     "output_type": "stream",
     "text": [
      "Downloading data from http://www.itl.nist.gov/iaui/vip/cs_links/EMNIST/matlab.zip\n",
      "743900280/743900280 [==============================] - 900s 1us/step\n"
     ]
    },
    {
     "name": "stderr",
     "output_type": "stream",
     "text": [
      "WARNING:root:Please cite the following paper when using or referencing this Extra Keras Dataset:\n",
      "WARNING:root:Cohen, G., Afshar, S., Tapson, J., & van Schaik, A. (2017). EMNIST: an extension of MNIST to handwritten letters. Retrieved from http://arxiv.org/abs/1702.05373\n"
     ]
    }
   ],
   "source": [
    "# Vorbereiten von Nist\n",
    "(input_train, target_train), (input_test, target_test) = emnist.load_data(type='balanced')"
   ]
  },
  {
   "cell_type": "code",
   "execution_count": 53,
   "outputs": [
    {
     "name": "stdout",
     "output_type": "stream",
     "text": [
      "[45 36 43 ... 23 31  8]\n",
      "[[[0 0 0 ... 0 0 0]\n",
      "  [0 0 0 ... 0 0 0]\n",
      "  [0 0 0 ... 0 0 0]\n",
      "  ...\n",
      "  [0 0 0 ... 0 0 0]\n",
      "  [0 0 0 ... 0 0 0]\n",
      "  [0 0 0 ... 0 0 0]]\n",
      "\n",
      " [[0 0 0 ... 0 0 0]\n",
      "  [0 0 0 ... 0 0 0]\n",
      "  [0 0 0 ... 0 0 0]\n",
      "  ...\n",
      "  [0 0 0 ... 0 0 0]\n",
      "  [0 0 0 ... 0 0 0]\n",
      "  [0 0 0 ... 0 0 0]]\n",
      "\n",
      " [[0 0 0 ... 0 0 0]\n",
      "  [0 0 0 ... 0 0 0]\n",
      "  [0 0 0 ... 0 0 0]\n",
      "  ...\n",
      "  [0 0 5 ... 0 0 0]\n",
      "  [0 0 0 ... 0 0 0]\n",
      "  [0 0 0 ... 0 0 0]]\n",
      "\n",
      " ...\n",
      "\n",
      " [[0 0 0 ... 0 0 0]\n",
      "  [0 0 0 ... 0 0 0]\n",
      "  [0 0 0 ... 0 0 0]\n",
      "  ...\n",
      "  [0 0 0 ... 0 0 0]\n",
      "  [0 0 0 ... 0 0 0]\n",
      "  [0 0 0 ... 0 0 0]]\n",
      "\n",
      " [[0 0 0 ... 0 0 0]\n",
      "  [0 0 0 ... 0 0 0]\n",
      "  [0 0 0 ... 0 0 0]\n",
      "  ...\n",
      "  [0 0 0 ... 0 0 0]\n",
      "  [0 0 0 ... 0 0 0]\n",
      "  [0 0 0 ... 0 0 0]]\n",
      "\n",
      " [[0 0 0 ... 0 0 0]\n",
      "  [0 0 0 ... 0 0 0]\n",
      "  [0 0 0 ... 0 0 0]\n",
      "  ...\n",
      "  [0 0 0 ... 0 0 0]\n",
      "  [0 0 0 ... 0 0 0]\n",
      "  [0 0 0 ... 0 0 0]]]\n"
     ]
    }
   ],
   "source": [
    "print(target_train)\n",
    "print (input_train)"
   ],
   "metadata": {
    "collapsed": false,
    "pycharm": {
     "name": "#%%\n"
    }
   }
  },
  {
   "cell_type": "code",
   "execution_count": 54,
   "outputs": [],
   "source": [
    "# Sortieren Sie alle Ziffern aus, die unerwünscht sind!\n",
    "# Hinweis: np.where ist hierfür recht Hilfreich\n",
    "'''\n",
    "train = np.where(target_train < 16, input_train)\n",
    "train_labels = np.where(target_train < 16, target_train)\n",
    "\n",
    "test = np.where(target_test < 16, input_test)\n",
    "test_labels = np.where(target_test < 16, target_test)\n",
    "'''\n",
    "\n",
    "train = input_train[target_train < 16]\n",
    "train_labels = target_train[target_train < 16]\n",
    "\n",
    "test = input_test[target_test < 16]\n",
    "test_labels = target_test[target_test < 16]"
   ],
   "metadata": {
    "collapsed": false,
    "pycharm": {
     "name": "#%%\n"
    }
   }
  },
  {
   "cell_type": "code",
   "execution_count": 55,
   "outputs": [
    {
     "name": "stdout",
     "output_type": "stream",
     "text": [
      "(38400,)\n",
      "(38400, 28, 28)\n"
     ]
    }
   ],
   "source": [
    "print(train_labels.shape)\n",
    "print(train.shape)"
   ],
   "metadata": {
    "collapsed": false,
    "pycharm": {
     "name": "#%%\n"
    }
   }
  },
  {
   "cell_type": "code",
   "execution_count": 56,
   "id": "a2986b36-7340-4dd3-b659-a2663682d303",
   "metadata": {},
   "outputs": [
    {
     "data": {
      "text/plain": "<Figure size 864x864 with 9 Axes>",
      "image/png": "[encoded data removed]"
     },
     "metadata": {
      "needs_background": "light"
     },
     "output_type": "display_data"
    }
   ],
   "source": [
    "# Plotten Sie hier ein paar Ziffern!\n",
    "plt.figure(figsize=(12,12))\n",
    "for i in range(0,9):\n",
    "    plt.subplot(3,3,(i+1))\n",
    "    plt.imshow((train[i]),cmap=\"gray\")\n",
    "    # plt.title('true label: '+np.str(np.argmax(train,axis=1)[i]))\n",
    "    plt.axis('off')\n"
   ]
  },
  {
   "cell_type": "code",
   "execution_count": 57,
   "id": "8c1aada7-698e-4cf8-84e3-a5de1c0f4493",
   "metadata": {},
   "outputs": [
    {
     "name": "stdout",
     "output_type": "stream",
     "text": [
      "(38400, 28, 28, 1)\n",
      "(38400, 16)\n",
      "(6400, 28, 28, 1)\n",
      "(6400, 16)\n"
     ]
    }
   ],
   "source": [
    "# Normalisieren Sie das Set und bringen es in die richtige \"shape\"\n",
    "train = np.reshape(train, (train.shape[0],28,28,1))\n",
    "train_labels = tf.keras.utils.to_categorical(train_labels, num_classes=None)\n",
    "test = np.reshape(test, (test.shape[0],28,28,1))\n",
    "test_labels = tf.keras.utils.to_categorical(test_labels, num_classes=None)\n",
    "\n",
    "print(train.shape)\n",
    "print(train_labels.shape)\n",
    "print(test.shape)\n",
    "print(test_labels.shape)"
   ]
  },
  {
   "cell_type": "code",
   "execution_count": 58,
   "id": "5cda1cfa-672f-4dff-93f8-c3d67c76957b",
   "metadata": {},
   "outputs": [
    {
     "name": "stdout",
     "output_type": "stream",
     "text": [
      "Model: \"sequential_1\"\n",
      "_________________________________________________________________\n",
      " Layer (type)                Output Shape              Param #   \n",
      "=================================================================\n",
      " conv2d (Conv2D)             (None, 26, 26, 32)        320       \n",
      "                                                                 \n",
      " max_pooling2d (MaxPooling2D  (None, 13, 13, 32)       0         \n",
      " )                                                               \n",
      "                                                                 \n",
      " conv2d_1 (Conv2D)           (None, 11, 11, 64)        18496     \n",
      "                                                                 \n",
      " max_pooling2d_1 (MaxPooling  (None, 5, 5, 64)         0         \n",
      " 2D)                                                             \n",
      "                                                                 \n",
      " conv2d_2 (Conv2D)           (None, 3, 3, 64)          36928     \n",
      "                                                                 \n",
      " dropout (Dropout)           (None, 3, 3, 64)          0         \n",
      "                                                                 \n",
      " flatten (Flatten)           (None, 576)               0         \n",
      "                                                                 \n",
      "=================================================================\n",
      "Total params: 55,744\n",
      "Trainable params: 55,744\n",
      "Non-trainable params: 0\n",
      "_________________________________________________________________\n"
     ]
    }
   ],
   "source": [
    "# Laden des Modells\n",
    "base_model = tf.keras.models.load_model(\"../savedModels/detectNumber\")\n",
    "\n",
    "#Hier die letzte Schicht entfernen\n",
    "base_model.pop()\n",
    "base_model.summary()"
   ]
  },
  {
   "cell_type": "code",
   "execution_count": 61,
   "id": "371cb421-f1f2-47b6-90d6-4cf99b451618",
   "metadata": {},
   "outputs": [],
   "source": [
    "# Modell einfrieren\n",
    "base_model.trainable = False\n",
    "\n",
    "# Basismodell als Ausgangspunkt nehmen\n",
    "inputs = tf.keras.Input(shape=(28, 28, 1))\n",
    "x = base_model(inputs, training=False)\n",
    "\n",
    "# Hier einen Dense-layer und einmal Softmax hinzufügen, sodass die verschiedenen Klassen vorhergesagt werden! können!\n",
    "last_layer = tf.keras.layers.Dense(16)(x)\n",
    "output     = tf.keras.layers.Activation('softmax')(last_layer)\n",
    "\n",
    "# Modell Zusammenfügen\n",
    "model = tf.keras.Model(inputs, output)"
   ]
  },
  {
   "cell_type": "code",
   "execution_count": 62,
   "id": "97ab7f72-f612-4e37-b1c5-064d7aa616a1",
   "metadata": {},
   "outputs": [
    {
     "name": "stdout",
     "output_type": "stream",
     "text": [
      "Model: \"model_3\"\n",
      "_________________________________________________________________\n",
      " Layer (type)                Output Shape              Param #   \n",
      "=================================================================\n",
      " input_4 (InputLayer)        [(None, 28, 28, 1)]       0         \n",
      "                                                                 \n",
      " sequential_1 (Sequential)   (None, 576)               55744     \n",
      "                                                                 \n",
      " dense_3 (Dense)             (None, 16)                9232      \n",
      "                                                                 \n",
      " activation_3 (Activation)   (None, 16)                0         \n",
      "                                                                 \n",
      "=================================================================\n",
      "Total params: 64,976\n",
      "Trainable params: 9,232\n",
      "Non-trainable params: 55,744\n",
      "_________________________________________________________________\n"
     ]
    }
   ],
   "source": [
    "# Modell Kompilieren, Kostenfunktion categorical_crossentropy, Optimizer Adam mit der learningrate 1e-4\n",
    "learningrate = 1E-4\n",
    "model.compile(optimizer=tf.keras.optimizers.Adam(learning_rate=learningrate),\n",
    "              loss=tf.keras.losses.BinaryCrossentropy(),\n",
    "              metrics=['accuracy'])\n",
    "\n",
    "model.summary()"
   ]
  },
  {
   "cell_type": "code",
   "execution_count": 63,
   "id": "7cd190a8-57aa-4daa-bf69-b784f3e4d42f",
   "metadata": {},
   "outputs": [
    {
     "name": "stdout",
     "output_type": "stream",
     "text": [
      "200/200 [==============================] - 2s 6ms/step - loss: 95.8127 - accuracy: 0.1078\n"
     ]
    }
   ],
   "source": [
    "# Accuracy vor dem Transferlearning bestimmen\n",
    "loss0, accuracy0 = model.evaluate(x=test, y=test_labels)"
   ]
  },
  {
   "cell_type": "code",
   "execution_count": 64,
   "id": "147cbb77-6c15-4132-96ed-599f4d0567a1",
   "metadata": {},
   "outputs": [
    {
     "name": "stdout",
     "output_type": "stream",
     "text": [
      "Epoch 1/10\n",
      "300/300 [==============================] - 7s 22ms/step - loss: 24.0164 - accuracy: 0.2640 - val_loss: 8.4768 - val_accuracy: 0.5025\n",
      "Epoch 2/10\n",
      "300/300 [==============================] - 7s 23ms/step - loss: 5.5740 - accuracy: 0.6344 - val_loss: 4.0645 - val_accuracy: 0.7227\n",
      "Epoch 3/10\n",
      "300/300 [==============================] - 9s 30ms/step - loss: 3.1339 - accuracy: 0.7749 - val_loss: 2.7323 - val_accuracy: 0.8064\n",
      "Epoch 4/10\n",
      "300/300 [==============================] - 9s 29ms/step - loss: 2.2203 - accuracy: 0.8386 - val_loss: 2.0661 - val_accuracy: 0.8481\n",
      "Epoch 5/10\n",
      "300/300 [==============================] - 8s 27ms/step - loss: 1.7281 - accuracy: 0.8717 - val_loss: 1.6677 - val_accuracy: 0.8748\n",
      "Epoch 6/10\n",
      "300/300 [==============================] - 8s 27ms/step - loss: 1.4162 - accuracy: 0.8942 - val_loss: 1.3962 - val_accuracy: 0.8950\n",
      "Epoch 7/10\n",
      "300/300 [==============================] - 8s 27ms/step - loss: 1.1974 - accuracy: 0.9090 - val_loss: 1.2085 - val_accuracy: 0.9064\n",
      "Epoch 8/10\n",
      "300/300 [==============================] - 8s 27ms/step - loss: 1.0366 - accuracy: 0.9202 - val_loss: 1.0679 - val_accuracy: 0.9172\n",
      "Epoch 9/10\n",
      "300/300 [==============================] - 8s 27ms/step - loss: 0.9113 - accuracy: 0.9283 - val_loss: 0.9574 - val_accuracy: 0.9264\n",
      "Epoch 10/10\n",
      "300/300 [==============================] - 8s 27ms/step - loss: 0.8112 - accuracy: 0.9355 - val_loss: 0.8690 - val_accuracy: 0.9300\n"
     ]
    }
   ],
   "source": [
    "# Hier das Netzwerk für 10 Epochen trainieren!\n",
    "history = model.fit(train, train_labels,\n",
    "                    batch_size=128,\n",
    "                    epochs=10,\n",
    "                    validation_data=(test, test_labels))"
   ]
  },
  {
   "cell_type": "code",
   "execution_count": 66,
   "id": "ba3a3c41-4939-4e22-bca2-55f8283d6a03",
   "metadata": {},
   "outputs": [
    {
     "data": {
      "text/plain": "<matplotlib.legend.Legend at 0x217a06a4dc0>"
     },
     "execution_count": 66,
     "metadata": {},
     "output_type": "execute_result"
    },
    {
     "data": {
      "text/plain": "<Figure size 864x288 with 2 Axes>",
      "image/png": "[encoded data removed]"
     },
     "metadata": {
      "needs_background": "light"
     },
     "output_type": "display_data"
    }
   ],
   "source": [
    "# Plotten der Trainingskurve wie in der Aufgabe zuvor\n",
    "\n",
    "# plot the development of the accuracy and loss during training\n",
    "plt.figure(figsize=(12,4))\n",
    "plt.subplot(1,2,(1))\n",
    "plt.plot(history.history['accuracy'],linestyle='-.')\n",
    "plt.plot(history.history['val_accuracy'])\n",
    "plt.title('model accuracy')\n",
    "plt.ylabel('accuracy')\n",
    "plt.xlabel('epoch')\n",
    "plt.legend(['train', 'valid'], loc='lower right')\n",
    "\n",
    "plt.subplot(1,2,(2))\n",
    "plt.plot(history.history['loss'],linestyle='-.')\n",
    "plt.plot(history.history['val_loss'])\n",
    "plt.title('model loss')\n",
    "plt.ylabel('loss')\n",
    "plt.xlabel('epoch')\n",
    "plt.legend(['train', 'valid'], loc='upper right')"
   ]
  },
  {
   "cell_type": "code",
   "execution_count": 67,
   "id": "c47bd19e-8d98-4d30-89f7-3531dfa6fb63",
   "metadata": {},
   "outputs": [
    {
     "name": "stdout",
     "output_type": "stream",
     "text": [
      "200/200 [==============================] - 1s 6ms/step\n",
      "[[356   0   2   0   0   0   2   1   0   0   2   1   7  29   0   0]\n",
      " [  0 394   3   0   1   0   0   1   1   0   0   0   0   0   0   0]\n",
      " [  2   0 384   2   1   0   0   1   3   0   3   0   2   2   0   0]\n",
      " [  1   0   0 391   0   3   0   0   1   0   0   4   0   0   0   0]\n",
      " [  1   0   0   0 377   0   1   1   0   7  10   0   0   0   0   3]\n",
      " [  0   0   1   6   0 380   2   0   1   2   0   0   3   0   3   2]\n",
      " [  1   1   0   0   0   1 391   0   0   0   0   0   4   0   1   1]\n",
      " [  0   1   4   2   1   0   0 384   0   5   2   0   0   1   0   0]\n",
      " [  2   0   0   0   0   3   0   0 363   3   2  15   0   2   4   6]\n",
      " [  2   0   0   0   3   2   0   2   2 383   2   0   3   1   0   0]\n",
      " [  1   3   3   0   3   0   2   1   4   3 353  11   3   4   2   7]\n",
      " [  9   0   1   2   1   1   5   0   4   1   9 348   3   3  11   2]\n",
      " [  6   2   2   1   0   0   5   1   0   0   1   4 369   4   4   1]\n",
      " [ 42   1   2   1   1   1   0   1   1   1   2   4   5 337   1   0]\n",
      " [  0   0   0   0   0   3   3   0   3   1   0   9   8   1 362  10]\n",
      " [  1   0   1   0   0   4   0   1   4   1   1   4   0   0   3 380]]\n",
      "Acc_fc_orig_flat =  0.93\n"
     ]
    }
   ],
   "source": [
    "# Confusion Matrix erstellen\n",
    "pred=model.predict(test)\n",
    "print(confusion_matrix(np.argmax(test_labels,axis=1),np.argmax(pred,axis=1)))\n",
    "acc_fc_orig = np.sum(np.argmax(test_labels,axis=1)==np.argmax(pred,axis=1))/len(pred)\n",
    "print(\"Acc_fc_orig_flat = \" , acc_fc_orig)"
   ]
  },
  {
   "cell_type": "markdown",
   "source": [
    "### 0.93 Genauigkeit!"
   ],
   "metadata": {
    "collapsed": false,
    "pycharm": {
     "name": "#%% md\n"
    }
   }
  }
 ],
 "metadata": {
  "kernelspec": {
   "display_name": "Python 3",
   "language": "python",
   "name": "python3"
  },
  "language_info": {
   "codemirror_mode": {
    "name": "ipython",
    "version": 3
   },
   "file_extension": ".py",
   "mimetype": "text/x-python",
   "name": "python",
   "nbconvert_exporter": "python",
   "pygments_lexer": "ipython3",
   "version": "3.9.4"
  }
 },
 "nbformat": 4,
 "nbformat_minor": 5
}